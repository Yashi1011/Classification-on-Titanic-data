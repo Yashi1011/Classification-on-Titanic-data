{
 "cells": [
  {
   "cell_type": "code",
   "execution_count": 1,
   "metadata": {},
   "outputs": [
    {
     "data": {
      "application/vnd.jupyter.widget-view+json": {
       "model_id": "32f818e6be594fd2864033cbcc49a44c",
       "version_major": 2,
       "version_minor": 0
      },
      "text/plain": [
       "Dropdown(description='Criterion', options=('gini', 'entropy'), value='gini')"
      ]
     },
     "metadata": {},
     "output_type": "display_data"
    },
    {
     "data": {
      "application/vnd.jupyter.widget-view+json": {
       "model_id": "8f9c88f6a4e14eb49fce766eb10e3337",
       "version_major": 2,
       "version_minor": 0
      },
      "text/plain": [
       "Dropdown(description='Splitter', options=('best', 'random'), value='best')"
      ]
     },
     "metadata": {},
     "output_type": "display_data"
    },
    {
     "data": {
      "application/vnd.jupyter.widget-view+json": {
       "model_id": "065b2ae070e144c494b08cddbb04569f",
       "version_major": 2,
       "version_minor": 0
      },
      "text/plain": [
       "Dropdown(description='max_features', options=('auto', 'sqrt', 'log2'), value='auto')"
      ]
     },
     "metadata": {},
     "output_type": "display_data"
    },
    {
     "data": {
      "application/vnd.jupyter.widget-view+json": {
       "model_id": "b30e3293a9d74cf3b6cf382e02daf158",
       "version_major": 2,
       "version_minor": 0
      },
      "text/plain": [
       "IntSlider(value=0, continuous_update=False, description='random_state')"
      ]
     },
     "metadata": {},
     "output_type": "display_data"
    },
    {
     "data": {
      "application/vnd.jupyter.widget-view+json": {
       "model_id": "c81a7e89fc3b4e949e928069a36d3e04",
       "version_major": 2,
       "version_minor": 0
      },
      "text/plain": [
       "Output()"
      ]
     },
     "metadata": {},
     "output_type": "display_data"
    }
   ],
   "source": [
    "import pandas as pd\n",
    "import numpy as np\n",
    "import matplotlib.pyplot as plt\n",
    "import ipywidgets as widgets\n",
    "from ipywidgets import interactive\n",
    "from IPython.display import display\n",
    "\n",
    "dataset = pd.read_csv('titanic.csv')\n",
    "X = dataset.iloc[:,[2,4,5,6,9]].values\n",
    "y=dataset.iloc[:,1].values\n",
    "\n",
    "from sklearn.impute import SimpleImputer\n",
    "si = SimpleImputer(missing_values=np.nan, strategy='mean')\n",
    "X[:,2:] = si.fit_transform(X[:,2:])\n",
    "\n",
    "from sklearn.preprocessing import LabelEncoder\n",
    "le = LabelEncoder()\n",
    "X[:,1] = le.fit_transform(X[:,1])\n",
    "\n",
    "from sklearn.model_selection import train_test_split\n",
    "X_train, X_test, y_train, y_test = train_test_split(X,y,test_size=0.2, random_state=0)\n",
    "\n",
    "from sklearn.preprocessing import StandardScaler\n",
    "sc = StandardScaler()\n",
    "X_train[:,[2,4]] = sc.fit_transform(X_train[:,[2,4]])\n",
    "X_test[:,[2,4]]=sc.transform(X_test[:,[2,4]])\n",
    "\n",
    "criterion = widgets.Dropdown(\n",
    "    options=['gini', 'entropy'],\n",
    "    value='gini',\n",
    "    description='Criterion',\n",
    "    disabled=False,\n",
    "    continuous_update=True,\n",
    "    orientation='vertical',\n",
    "    readout=True\n",
    ")\n",
    "\n",
    "splitter = widgets.Dropdown(\n",
    "    options=['best', 'random'],\n",
    "    value='best',\n",
    "    description='Splitter',\n",
    "    disabled=False,\n",
    "    continuous_update=True,\n",
    "    orientation='vertical',\n",
    "    readout=True\n",
    ")\n",
    "\n",
    "max_features = widgets.Dropdown(\n",
    "    options=['auto', 'sqrt', 'log2'],\n",
    "    value='auto',\n",
    "    description='max_features',\n",
    "    disabled=False,\n",
    "    continuous_update=True,\n",
    "    orientation='vertical',\n",
    "    readout=True\n",
    ")\n",
    "\n",
    "random_state = widgets.IntSlider(\n",
    "    value=0,\n",
    "    min=0,\n",
    "    max=100,\n",
    "    step=1,\n",
    "    description='random_state',\n",
    "    disabled=False,\n",
    "    continuous_update=False,\n",
    "    readout=True\n",
    ")\n",
    "\n",
    "def f(a,b,c,d):\n",
    "    from sklearn.tree import DecisionTreeClassifier\n",
    "    r6 = DecisionTreeClassifier(criterion=a, splitter=b,max_features=c,random_state=d)\n",
    "    r6.fit(X_train,y_train)\n",
    "\n",
    "    r6_pred = r6.predict(X_test)\n",
    "\n",
    "    from sklearn.metrics import confusion_matrix, accuracy_score\n",
    "    c6 = confusion_matrix(y_test,r6_pred)\n",
    "    print(c6)\n",
    "    print(accuracy_score(y_test,r6_pred))\n",
    "\n",
    "# Using interactive_output function to display output only once.\n",
    "out = widgets.interactive_output(f, {'a': criterion, 'b': splitter, 'c': max_features, 'd': random_state})\n",
    "\n",
    "display(criterion, splitter, max_features,random_state, out)"
   ]
  }
 ],
 "metadata": {
  "kernelspec": {
   "display_name": "Python 3",
   "language": "python",
   "name": "python3"
  },
  "language_info": {
   "codemirror_mode": {
    "name": "ipython",
    "version": 3
   },
   "file_extension": ".py",
   "mimetype": "text/x-python",
   "name": "python",
   "nbconvert_exporter": "python",
   "pygments_lexer": "ipython3",
   "version": "3.7.3"
  }
 },
 "nbformat": 4,
 "nbformat_minor": 2
}
