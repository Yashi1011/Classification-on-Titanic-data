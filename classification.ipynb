{
 "cells": [
  {
   "cell_type": "code",
   "execution_count": 60,
   "metadata": {},
   "outputs": [],
   "source": [
    "def dropdown(a,des):\n",
    "    d = widgets.Dropdown(\n",
    "        options=a,\n",
    "        value=a[0],\n",
    "        description=des,\n",
    "        disabled=False,\n",
    "        continuous_update=True,\n",
    "        orientation='vertical',\n",
    "        readout=True\n",
    "    )\n",
    "    return d"
   ]
  },
  {
   "cell_type": "code",
   "execution_count": 61,
   "metadata": {},
   "outputs": [],
   "source": [
    "def slider(minimun, maximum, v, des):\n",
    "    d = widgets.IntSlider(\n",
    "        value=v,\n",
    "        min=minimun,\n",
    "        max=maximum,\n",
    "        step=1,\n",
    "        description=des,\n",
    "        disabled=False,\n",
    "        continuous_update=False,\n",
    "        readout=True\n",
    "    )\n",
    "    return d"
   ]
  },
  {
   "cell_type": "code",
   "execution_count": 62,
   "metadata": {},
   "outputs": [],
   "source": [
    "def decision_tree():\n",
    "    criterion = dropdown(['gini', 'entropy'],'criterion')\n",
    "    splitter = dropdown(['best', 'random'], 'splitter')\n",
    "    max_features = dropdown(['auto', 'sqrt', 'log2'], 'max_features')\n",
    "    random_state = slider(0,100,0,'random_state')\n",
    "\n",
    "    def f(a,b,c,d):\n",
    "        from sklearn.tree import DecisionTreeClassifier\n",
    "        r6 = DecisionTreeClassifier(criterion=a, splitter=b,max_features=c,random_state=d)\n",
    "        r6.fit(X_train,y_train)\n",
    "\n",
    "        r6_pred = r6.predict(X_test)\n",
    "\n",
    "        from sklearn.metrics import confusion_matrix, accuracy_score\n",
    "        c6 = confusion_matrix(y_test,r6_pred)\n",
    "        print(c6)\n",
    "        print(accuracy_score(y_test,r6_pred))\n",
    "\n",
    "    # Using interactive_output function to display output only once.\n",
    "    out = widgets.interactive_output(f, {'a': criterion, 'b': splitter, 'c': max_features, 'd': random_state})\n",
    "\n",
    "    display(criterion, splitter, max_features,random_state, out)"
   ]
  },
  {
   "cell_type": "code",
   "execution_count": 63,
   "metadata": {},
   "outputs": [],
   "source": [
    "def logistic_regression():\n",
    "    solver = dropdown(['newton-cg', 'lbfgs', 'liblinear', 'sag', 'saga'],'Solver')\n",
    "\n",
    "    multi_class = dropdown(['auto', 'ovr', 'multinomial'],'multi_class')\n",
    "\n",
    "    random_state = slider(0,100,0,'random_state')\n",
    "\n",
    "    def f(a,b,c):\n",
    "        from sklearn.linear_model import LogisticRegression\n",
    "        r1 = LogisticRegression(solver=a, multi_class=b ,random_state=c)\n",
    "        r1.fit(X_train,y_train)\n",
    "\n",
    "        r1_pred = r1.predict(X_test)\n",
    "\n",
    "        from sklearn.metrics import confusion_matrix, accuracy_score\n",
    "        c1 = confusion_matrix(y_test,r1_pred)\n",
    "        print(c1)\n",
    "        print(accuracy_score(y_test,r1_pred))\n",
    "\n",
    "    # Using interactive_output function to display output only once.\n",
    "    out = widgets.interactive_output(f, {'a': solver, 'b': multi_class, 'c': random_state})\n",
    "\n",
    "    display(solver, multi_class, random_state, out)"
   ]
  },
  {
   "cell_type": "code",
   "execution_count": 64,
   "metadata": {},
   "outputs": [],
   "source": [
    "def knn():\n",
    "    n_neighbors = slider(1,100,5,'n_neighbours')\n",
    "    \n",
    "    weights = dropdown(['uniform', 'distance'],'Weights')\n",
    "    \n",
    "    algorithm = dropdown(['auto', 'ball_tree', 'kd_tree', 'brute'],'Algorithm')\n",
    "\n",
    "    def f(a,b,c):\n",
    "        from sklearn.neighbors import KNeighborsClassifier\n",
    "        r2 = KNeighborsClassifier(n_neighbors=a, weights=b, algorithm=c)\n",
    "        r2.fit(X_train,y_train)\n",
    "\n",
    "        r2_pred = r2.predict(X_test)\n",
    "\n",
    "        from sklearn.metrics import confusion_matrix, accuracy_score\n",
    "        c2 = confusion_matrix(y_test,r2_pred)\n",
    "        print(c2)\n",
    "        print(accuracy_score(y_test,r2_pred))\n",
    "\n",
    "    out = widgets.interactive_output(f, {'a': n_neighbors, 'b': weights, 'c': algorithm})\n",
    "\n",
    "    display(n_neighbors, weights, algorithm, out)"
   ]
  },
  {
   "cell_type": "code",
   "execution_count": null,
   "metadata": {},
   "outputs": [],
   "source": []
  },
  {
   "cell_type": "code",
   "execution_count": 65,
   "metadata": {},
   "outputs": [
    {
     "data": {
      "application/vnd.jupyter.widget-view+json": {
       "model_id": "9e239f289d3f4e0e8a36f47f41c1995d",
       "version_major": 2,
       "version_minor": 0
      },
      "text/plain": [
       "RadioButtons(description='Model', options=('Logistic Regression', 'KNN', 'SVM', 'Naive Bayes', 'Decision Tree'…"
      ]
     },
     "metadata": {},
     "output_type": "display_data"
    },
    {
     "data": {
      "application/vnd.jupyter.widget-view+json": {
       "model_id": "97db506b833641d3b33b35001fc2884c",
       "version_major": 2,
       "version_minor": 0
      },
      "text/plain": [
       "Output()"
      ]
     },
     "metadata": {},
     "output_type": "display_data"
    }
   ],
   "source": [
    "import pandas as pd\n",
    "import numpy as np\n",
    "import matplotlib.pyplot as plt\n",
    "import ipywidgets as widgets\n",
    "from ipywidgets import interactive\n",
    "from IPython.display import display\n",
    "\n",
    "dataset = pd.read_csv('titanic.csv')\n",
    "X = dataset.iloc[:,[2,4,5,6,9]].values\n",
    "y=dataset.iloc[:,1].values\n",
    "\n",
    "from sklearn.impute import SimpleImputer\n",
    "si = SimpleImputer(missing_values=np.nan, strategy='mean')\n",
    "X[:,2:] = si.fit_transform(X[:,2:])\n",
    "\n",
    "from sklearn.preprocessing import LabelEncoder\n",
    "le = LabelEncoder()\n",
    "X[:,1] = le.fit_transform(X[:,1])\n",
    "\n",
    "from sklearn.model_selection import train_test_split\n",
    "X_train, X_test, y_train, y_test = train_test_split(X,y,test_size=0.2, random_state=0)\n",
    "\n",
    "from sklearn.preprocessing import StandardScaler\n",
    "sc = StandardScaler()\n",
    "X_train[:,[2,4]] = sc.fit_transform(X_train[:,[2,4]])\n",
    "X_test[:,[2,4]]=sc.transform(X_test[:,[2,4]])\n",
    "\n",
    "model = widgets.RadioButtons(\n",
    "    options=['Logistic Regression', 'KNN', 'SVM', 'Naive Bayes', 'Decision Tree', 'Random Forest'],\n",
    "    value='Logistic Regression', # Defaults to 'Logistic regression'\n",
    "    description='Model',\n",
    "    disabled=False\n",
    ")\n",
    "\n",
    "def f(m):\n",
    "    if (m=='Logistic Regression'):\n",
    "        print('logistic regre')\n",
    "        logistic_regression()\n",
    "    elif (m=='KNN'):\n",
    "        print('KNN')\n",
    "        knn()\n",
    "    elif (m=='SVM'):\n",
    "        print('svm')\n",
    "    elif (m=='Naive Bayes'):\n",
    "        print('naive bayes')\n",
    "    elif (m=='Decision Tree'):\n",
    "        decision_tree()\n",
    "    else:\n",
    "        print('randomforest')\n",
    "    \n",
    "\n",
    "# Using interactive_output function to display output only once.\n",
    "o = widgets.interactive_output(f, {'m': model})\n",
    "\n",
    "display(model, o)"
   ]
  },
  {
   "cell_type": "code",
   "execution_count": 56,
   "metadata": {},
   "outputs": [],
   "source": [
    "from sklearn.metrics import accuracy_score\n",
    "accuracy=[]\n",
    "randoms = []\n",
    "for i in range(30):\n",
    "    randoms.append(i)\n",
    "    from sklearn.tree import DecisionTreeClassifier\n",
    "    r6 = DecisionTreeClassifier(criterion='gini',random_state=i,max_features='auto')\n",
    "    r6.fit(X_train,y_train)\n",
    "    r6_pred = r6.predict(X_test)\n",
    "    accuracy.append(accuracy_score(y_test,r6_pred)*100)"
   ]
  },
  {
   "cell_type": "code",
   "execution_count": 57,
   "metadata": {},
   "outputs": [
    {
     "data": {
      "text/plain": [
       "<matplotlib.collections.PathCollection at 0x13a0b178978>"
      ]
     },
     "execution_count": 57,
     "metadata": {},
     "output_type": "execute_result"
    },
    {
     "data": {
      "image/png": "[encoded data removed]",
      "text/plain": [
       "<Figure size 432x288 with 1 Axes>"
      ]
     },
     "metadata": {
      "needs_background": "light"
     },
     "output_type": "display_data"
    }
   ],
   "source": [
    "import matplotlib.pyplot as plt\n",
    "plt.scatter(randoms, accuracy)"
   ]
  },
  {
   "cell_type": "code",
   "execution_count": null,
   "metadata": {},
   "outputs": [],
   "source": []
  }
 ],
 "metadata": {
  "kernelspec": {
   "display_name": "Python 3",
   "language": "python",
   "name": "python3"
  },
  "language_info": {
   "codemirror_mode": {
    "name": "ipython",
    "version": 3
   },
   "file_extension": ".py",
   "mimetype": "text/x-python",
   "name": "python",
   "nbconvert_exporter": "python",
   "pygments_lexer": "ipython3",
   "version": "3.7.3"
  }
 },
 "nbformat": 4,
 "nbformat_minor": 2
}
